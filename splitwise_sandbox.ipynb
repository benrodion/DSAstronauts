{
 "cells": [
  {
   "cell_type": "markdown",
   "metadata": {},
   "source": [
    "# Toying with my Algorithm"
   ]
  },
  {
   "cell_type": "code",
   "execution_count": 33,
   "metadata": {},
   "outputs": [],
   "source": [
    "from splitwise import OptimalSplit"
   ]
  },
  {
   "cell_type": "code",
   "execution_count": 34,
   "metadata": {},
   "outputs": [
    {
     "name": "stdout",
     "output_type": "stream",
     "text": [
      "defaultdict(<class 'int'>, {'Angela': 5, 'Olaf': -12, 'Friedrich': 10, 'Barbie': -3, 'Ken': 0})\n",
      "{'Angela': 5, 'Olaf': -12, 'Friedrich': 10, 'Barbie': -3}\n",
      "3 payments need to be made.\n",
      "Olaf pays Angela 5\n",
      "Olaf pays Friedrich 7\n",
      "Barbie pays Friedrich 3\n"
     ]
    }
   ],
   "source": [
    "transactions = [[\"Angela\", \"Olaf\", 10],\n",
    "    [\"Olaf\", \"Friedrich\", 5],\n",
    "    [\"Friedrich\", \"Angela\", 5],\n",
    "    [\"Friedrich\", \"Barbie\", 10],\n",
    "    [\"Barbie\", \"Olaf\", 7],\n",
    "    [\"Ken\", \"Barbie\", 5],\n",
    "    [\"Barbie\", \"Ken\", 5]]\n",
    "\n",
    "splitter = OptimalSplit()\n",
    "txns = splitter.minTransfers(transactions)\n",
    "\n",
    "print(f\"{len(txns)} payments need to be made.\")\n",
    "\n",
    "for debtor, creditor, amount in txns:\n",
    "    print(f\"{debtor} pays {creditor} {amount}\")\n",
    "\n",
    "\n",
    "\n",
    "\n"
   ]
  }
 ],
 "metadata": {
  "kernelspec": {
   "display_name": "dsa_proj",
   "language": "python",
   "name": "python3"
  },
  "language_info": {
   "codemirror_mode": {
    "name": "ipython",
    "version": 3
   },
   "file_extension": ".py",
   "mimetype": "text/x-python",
   "name": "python",
   "nbconvert_exporter": "python",
   "pygments_lexer": "ipython3",
   "version": "3.11.11"
  }
 },
 "nbformat": 4,
 "nbformat_minor": 2
}
