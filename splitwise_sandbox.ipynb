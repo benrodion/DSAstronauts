{
 "cells": [
  {
   "cell_type": "markdown",
   "metadata": {},
   "source": [
    "# Toying with my Algorithm"
   ]
  },
  {
   "cell_type": "code",
   "execution_count": 1,
   "metadata": {},
   "outputs": [],
   "source": [
    "from splitwise import OptimalSplit\n",
    "from collections import defaultdict\n",
    "from math import inf, isclose"
   ]
  },
  {
   "cell_type": "code",
   "execution_count": 25,
   "metadata": {},
   "outputs": [
    {
     "name": "stdout",
     "output_type": "stream",
     "text": [
      "defaultdict(<class 'int'>, {'Angela': 5, 'Olaf': -12, 'Friedrich': 10, 'Barbie': -3, 'Ken': 0})\n",
      "{'Angela': 5, 'Olaf': -12, 'Friedrich': 10, 'Barbie': -3}\n",
      "3 payments need to be made.\n",
      "Olaf pays Angela 5\n",
      "Olaf pays Friedrich 7\n",
      "Barbie pays Friedrich 3\n"
     ]
    }
   ],
   "source": [
    "transactions = [[\"Angela\", \"Olaf\", 10],\n",
    "    [\"Olaf\", \"Friedrich\", 5],\n",
    "    [\"Friedrich\", \"Angela\", 5],\n",
    "    [\"Friedrich\", \"Barbie\", 10],\n",
    "    [\"Barbie\", \"Olaf\", 7],\n",
    "    [\"Ken\", \"Barbie\", 5],\n",
    "    [\"Barbie\", \"Ken\", 5]]\n",
    "\n",
    "splitter = OptimalSplit()\n",
    "txns = splitter.minTransfers(transactions)\n",
    "\n",
    "print(f\"{len(txns)} payments need to be made.\")\n",
    "\n",
    "for debtor, creditor, amount in txns:\n",
    "    print(f\"{debtor} pays {creditor} {amount}\")\n",
    "\n",
    "\n",
    "\n",
    "\n"
   ]
  },
  {
   "cell_type": "code",
   "execution_count": 27,
   "metadata": {},
   "outputs": [
    {
     "name": "stdout",
     "output_type": "stream",
     "text": [
      "defaultdict(<class 'int'>, {'Jasmin': 16.66, 'Hanna': -10, 'Carl': -6.66})\n",
      "{'Jasmin': 16.66, 'Hanna': -10, 'Carl': -6.66}\n",
      "2 payments need to be made.\n",
      "Hanna pays Jasmin 10\n",
      "Carl pays Jasmin 6.66\n"
     ]
    }
   ],
   "source": [
    "transactions = [[\"Jasmin\", \"Hanna\", 10],\n",
    "    [\"Jasmin\", \"Carl\", 6.66]]\n",
    "\n",
    "splitter = OptimalSplit()\n",
    "txns = splitter.minTransfers(transactions)\n",
    "\n",
    "print(f\"{len(txns)} payments need to be made.\")\n",
    "\n",
    "for debtor, creditor, amount in txns:\n",
    "    print(f\"{debtor} pays {creditor} {amount}\")"
   ]
  },
  {
   "cell_type": "code",
   "execution_count": 12,
   "metadata": {},
   "outputs": [
    {
     "data": {
      "text/plain": [
       "1.0"
      ]
     },
     "execution_count": 12,
     "metadata": {},
     "output_type": "execute_result"
    }
   ],
   "source": [
    "float(True)"
   ]
  },
  {
   "cell_type": "code",
   "execution_count": null,
   "metadata": {},
   "outputs": [],
   "source": [
    "class ExperimentalSplit:\n",
    "    \"\"\"\n",
    "    Core algorithm for debt splitting with minimal amount of payments.\n",
    "    \"\"\"\n",
    "    def expTransfers(self, transactions):\n",
    "        \"\"\"\n",
    "        Performs debt split with minimal amount of payments.\n",
    "\n",
    "        Args:\n",
    "        - transactions: a list of [lender, borrower, amount] entries.\n",
    "\n",
    "        Returns:\n",
    "        - A list of transactions of the form [creditor, debtor, amount].\n",
    "        \"\"\"\n",
    "        score = defaultdict(int) # default value of every new key in the score-dict is set to 0 \n",
    "\n",
    "        #creates score-dict. Keys: names of group members, Values: total amount owed/borrowed.\n",
    "        for lender, borrower, amount in transactions:\n",
    "            score[lender] += amount\n",
    "            score[borrower] -= amount\n",
    "\n",
    "\n",
    "         # for us to check what's going on \n",
    "        print(score)\n",
    "\n",
    "\n",
    "        # remove settled accounts (accounts with balance = 0)\n",
    "        debt = {person: amt for person, amt in score.items() if amt != 0}\n",
    "        people = list(debt.keys())\n",
    "        balances = list(debt.values())\n",
    "\n",
    "        #to check that all accounts with balance 0 have been removed \n",
    "        print(debt)\n",
    "\n",
    "        def dfs(start, balances, people):\n",
    "            # skip over people with balance == 0 (settled debts)\n",
    "            while start < len(balances) and abs(balances[start]) < 1e-9: # floating point safeguard \n",
    "                start += 1\n",
    "            # base case: there are no balances to settle --> return 0 (0 payments need to be made) and empty list of transactions    \n",
    "            if start == len(balances):\n",
    "                return 0, []\n",
    "            #initialize minimum number of payments and optimal transaction list\n",
    "            min_payments = inf\n",
    "            best_path = []\n",
    "\n",
    "            # attempt debt settling by pairing balances[start] with each of the later people in the list \n",
    "            for i in range(start + 1, len(balances)):\n",
    "                if balances[start] * balances[i] < 0:# ensures that only debtors & creditors can be paired, not debtor & debtor or creditor & creditor\n",
    "                    amount = min(abs(balances[start]), abs(balances[i]))#amount to be paid in the simulated transaction \n",
    "                    #save balance-values for backtracing\n",
    "                    start_original = balances[start]\n",
    "                    i_original = balances[i]\n",
    "\n",
    "                    # This block is mainly helpful for debugging with print-statements.\n",
    "                    # It determine direction of payment: from start to i or from i to start. \n",
    "                    # It also simulates the payments for us to keep track of them. \n",
    "                    if balances[start] < 0: #Case 1: if `start` owes money\n",
    "                        path = [(people[start], people[i], amount)]\n",
    "                        #reflect the changes of the transactions in the balances list \n",
    "                        balances[i] -= amount\n",
    "                        balances[start] += amount\n",
    "                    else:  #Case 2: if `start` gets money\n",
    "                        path = [(people[i], people[start], amount)]\n",
    "                        balances[start] -= amount\n",
    "                        balances[i] += amount\n",
    "\n",
    "                    # determine whether to move to the next person or stay with 'start' depending on whether `start` has been settled\n",
    "                    if isclose(balances[start], 0, abs_tol= 1e-6): # Case 1: `start` is settled and we move on \n",
    "                        next_start = start + 1\n",
    "                    else:\n",
    "                        next_start = start # Case 2: `start` is not settled and we stay with it \n",
    "\n",
    "                    # recursive settlement of remaining debt \n",
    "                    payments, next_path = dfs(next_start, balances[:], people)\n",
    "                    if payments + 1 < min_payments: # if path results in fewer payments than before, update best solution \n",
    "                        min_payments = payments + 1\n",
    "                        best_path = path + next_path\n",
    "\n",
    "                    # restore original balances for next depth-first search\n",
    "                    balances[start] = start_original\n",
    "                    balances[i] = i_original\n",
    "                \n",
    "            return min_payments, best_path\n",
    "\n",
    "\n",
    "        # run recursive function starting from first unsettled person     \n",
    "        _, result = dfs(0, balances, people)\n",
    "        \n",
    "        return result\n",
    "\n",
    "\n"
   ]
  },
  {
   "cell_type": "code",
   "execution_count": 9,
   "metadata": {},
   "outputs": [
    {
     "ename": "IndexError",
     "evalue": "list index out of range",
     "output_type": "error",
     "traceback": [
      "\u001b[31m---------------------------------------------------------------------------\u001b[39m",
      "\u001b[31mIndexError\u001b[39m                                Traceback (most recent call last)",
      "\u001b[36mCell\u001b[39m\u001b[36m \u001b[39m\u001b[32mIn[9]\u001b[39m\u001b[32m, line 5\u001b[39m\n\u001b[32m      1\u001b[39m transactions = [[\u001b[33m\"\u001b[39m\u001b[33mJasmin\u001b[39m\u001b[33m\"\u001b[39m, \u001b[33m\"\u001b[39m\u001b[33mHanna\u001b[39m\u001b[33m\"\u001b[39m, \u001b[38;5;28;01mTrue\u001b[39;00m],\n\u001b[32m      2\u001b[39m     [\u001b[33m\"\u001b[39m\u001b[33mJasmin\u001b[39m\u001b[33m\"\u001b[39m, \u001b[33m\"\u001b[39m\u001b[33mCarl\u001b[39m\u001b[33m\"\u001b[39m, \u001b[32m6.66\u001b[39m]]\n\u001b[32m      4\u001b[39m splitter = ExperimentalSplit()\n\u001b[32m----> \u001b[39m\u001b[32m5\u001b[39m txns = \u001b[43msplitter\u001b[49m\u001b[43m.\u001b[49m\u001b[43mexpTransfers\u001b[49m\u001b[43m(\u001b[49m\u001b[43mtransactions\u001b[49m\u001b[43m)\u001b[49m\n\u001b[32m      7\u001b[39m \u001b[38;5;28mprint\u001b[39m(\u001b[33mf\u001b[39m\u001b[33m\"\u001b[39m\u001b[38;5;132;01m{\u001b[39;00m\u001b[38;5;28mlen\u001b[39m(txns)\u001b[38;5;132;01m}\u001b[39;00m\u001b[33m payments need to be made.\u001b[39m\u001b[33m\"\u001b[39m)\n\u001b[32m      9\u001b[39m \u001b[38;5;28;01mfor\u001b[39;00m debtor, creditor, amount \u001b[38;5;129;01min\u001b[39;00m txns:\n",
      "\u001b[36mCell\u001b[39m\u001b[36m \u001b[39m\u001b[32mIn[8]\u001b[39m\u001b[32m, line 18\u001b[39m, in \u001b[36mExperimentalSplit.expTransfers\u001b[39m\u001b[34m(self, transactions)\u001b[39m\n\u001b[32m     15\u001b[39m score = defaultdict(\u001b[38;5;28mint\u001b[39m) \u001b[38;5;66;03m# default value of every new key in the score-dict is set to 0 \u001b[39;00m\n\u001b[32m     17\u001b[39m \u001b[38;5;66;03m# input handling\u001b[39;00m\n\u001b[32m---> \u001b[39m\u001b[32m18\u001b[39m \u001b[38;5;28;01mif\u001b[39;00m \u001b[38;5;28misinstance\u001b[39m(\u001b[43mtransactions\u001b[49m\u001b[43m[\u001b[49m\u001b[32;43m2\u001b[39;49m\u001b[43m]\u001b[49m, \u001b[38;5;28mbool\u001b[39m):\n\u001b[32m     19\u001b[39m     \u001b[38;5;28;01mraise\u001b[39;00m \u001b[38;5;167;01mTypeError\u001b[39;00m\n\u001b[32m     21\u001b[39m \u001b[38;5;66;03m#creates score-dict. Keys: names of group members, Values: total amount owed/borrowed.\u001b[39;00m\n",
      "\u001b[31mIndexError\u001b[39m: list index out of range"
     ]
    }
   ],
   "source": [
    "transactions = [[\"Jasmin\", \"Hanna\", True],\n",
    "    [\"Jasmin\", \"Carl\", 6.66]]\n",
    "\n",
    "splitter = ExperimentalSplit()\n",
    "txns = splitter.expTransfers(transactions)\n",
    "\n",
    "print(f\"{len(txns)} payments need to be made.\")\n",
    "\n",
    "for debtor, creditor, amount in txns:\n",
    "    print(f\"{debtor} pays {creditor} {amount}\")"
   ]
  }
 ],
 "metadata": {
  "kernelspec": {
   "display_name": "dsa_proj",
   "language": "python",
   "name": "python3"
  },
  "language_info": {
   "codemirror_mode": {
    "name": "ipython",
    "version": 3
   },
   "file_extension": ".py",
   "mimetype": "text/x-python",
   "name": "python",
   "nbconvert_exporter": "python",
   "pygments_lexer": "ipython3",
   "version": "3.11.11"
  }
 },
 "nbformat": 4,
 "nbformat_minor": 2
}
