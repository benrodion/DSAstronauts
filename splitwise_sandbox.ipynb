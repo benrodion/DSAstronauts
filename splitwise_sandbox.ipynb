{
 "cells": [
  {
   "cell_type": "markdown",
   "metadata": {},
   "source": [
    "# Toying with my Algorithm"
   ]
  },
  {
   "cell_type": "code",
   "execution_count": 7,
   "metadata": {},
   "outputs": [],
   "source": [
    "#import functions\n",
    "from splitwise import OptimalSplit"
   ]
  },
  {
   "cell_type": "code",
   "execution_count": 12,
   "metadata": {},
   "outputs": [
    {
     "ename": "NameError",
     "evalue": "name 'defaultdict' is not defined",
     "output_type": "error",
     "traceback": [
      "\u001b[31m---------------------------------------------------------------------------\u001b[39m",
      "\u001b[31mNameError\u001b[39m                                 Traceback (most recent call last)",
      "\u001b[36mCell\u001b[39m\u001b[36m \u001b[39m\u001b[32mIn[12]\u001b[39m\u001b[32m, line 4\u001b[39m\n\u001b[32m      1\u001b[39m transactions = [[\u001b[32m0\u001b[39m, \u001b[32m1\u001b[39m, \u001b[32m10\u001b[39m], [\u001b[32m2\u001b[39m, \u001b[32m0\u001b[39m, \u001b[32m5\u001b[39m]]\n\u001b[32m      3\u001b[39m split_1 = OptimalSplit()\n\u001b[32m----> \u001b[39m\u001b[32m4\u001b[39m split_1 = \u001b[43msplit_1\u001b[49m\u001b[43m.\u001b[49m\u001b[43mminTransfers\u001b[49m\u001b[43m(\u001b[49m\u001b[43mtransactions\u001b[49m\u001b[43m \u001b[49m\u001b[43m=\u001b[49m\u001b[43m \u001b[49m\u001b[43mtransactions\u001b[49m\u001b[43m)\u001b[49m\n",
      "\u001b[36mFile \u001b[39m\u001b[32m~/Library/Mobile Documents/com~apple~CloudDocs/Repositories/DSA_proj/DSAstronauts/splitwise.py:30\u001b[39m, in \u001b[36mOptimalSplit.minTransfers\u001b[39m\u001b[34m(self, transactions)\u001b[39m\n\u001b[32m     29\u001b[39m \u001b[38;5;28;01mdef\u001b[39;00m\u001b[38;5;250m \u001b[39m\u001b[34mminTransfers\u001b[39m(\u001b[38;5;28mself\u001b[39m, transactions):\n\u001b[32m---> \u001b[39m\u001b[32m30\u001b[39m     score = \u001b[43mdefaultdict\u001b[49m(\u001b[38;5;28mint\u001b[39m)\n\u001b[32m     32\u001b[39m     \u001b[38;5;28;01mfor\u001b[39;00m l, d, a \u001b[38;5;129;01min\u001b[39;00m transactions: \u001b[38;5;66;03m# l = lender, d = debtor, a = amount\u001b[39;00m\n\u001b[32m     33\u001b[39m         score[l] -= a \u001b[38;5;66;03m#reduce score of lender by amount they lent\u001b[39;00m\n",
      "\u001b[31mNameError\u001b[39m: name 'defaultdict' is not defined"
     ]
    }
   ],
   "source": [
    "transactions = [[0, 1, 10], [2, 0, 5]]\n",
    "\n",
    "split_1 = OptimalSplit()\n",
    "split_1 = split_1.minTransfers(transactions = transactions)"
   ]
  }
 ],
 "metadata": {
  "kernelspec": {
   "display_name": "dsa_proj",
   "language": "python",
   "name": "python3"
  },
  "language_info": {
   "codemirror_mode": {
    "name": "ipython",
    "version": 3
   },
   "file_extension": ".py",
   "mimetype": "text/x-python",
   "name": "python",
   "nbconvert_exporter": "python",
   "pygments_lexer": "ipython3",
   "version": "3.11.11"
  }
 },
 "nbformat": 4,
 "nbformat_minor": 2
}
