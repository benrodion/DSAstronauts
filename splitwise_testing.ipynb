{
 "cells": [
  {
   "cell_type": "markdown",
   "id": "7abcae21",
   "metadata": {},
   "source": [
    "# Testing the Algorithm \n",
    "To test if the algorithm works properly and in alignment with the instructions from the Project Guidelines, **3 tests** will be run. These include:  \n",
    "- **2 functional tests**: does the algorithm output correct solutions if adequate inputs are provided? This especially pertains to the amount of transactions (are they really minimized) and the path that it outputs (are the correct amounts transferred to and from the correct people). Functional tests will be verified through comparison with the actual Splitwise-app. \n",
    "- **1 performance test**: does the algorithm scale well? I.e. can it solve transactions with 10, 25 or 50 different involved people in under a second?"
   ]
  },
  {
   "cell_type": "code",
   "execution_count": 7,
   "id": "f9b4a928",
   "metadata": {},
   "outputs": [],
   "source": [
    "from splitwise import OptimalSplit\n",
    "import pytest\n"
   ]
  },
  {
   "cell_type": "markdown",
   "id": "ecaba182",
   "metadata": {},
   "source": [
    "## Exception Tests\n"
   ]
  },
  {
   "cell_type": "markdown",
   "id": "62187685",
   "metadata": {},
   "source": [
    "## Functional Tests"
   ]
  },
  {
   "cell_type": "markdown",
   "id": "7f79f0de",
   "metadata": {},
   "source": [
    "## Performance Test\n",
    "Does the algorithm solve transactions with more than 15 people in less than 1 second? "
   ]
  },
  {
   "cell_type": "code",
   "execution_count": 18,
   "id": "39865b1f",
   "metadata": {},
   "outputs": [
    {
     "name": "stdout",
     "output_type": "stream",
     "text": [
      "[['P0', 'P8', 57.84], ['P5', 'P3', 18.98], ['P4', 'P14', 82.19], ['P9', 'P2', 37.96], ['P4', 'P11', 90.33], ['P11', 'P9', 74.92], ['P5', 'P6', 79.66], ['P11', 'P14', 2.82], ['P7', 'P8', 35.58], ['P11', 'P10', 61.73], ['P7', 'P1', 32.3], ['P3', 'P10', 92.2], ['P9', 'P4', 20.2], ['P5', 'P8', 11.16], ['P11', 'P10', 78.52], ['P11', 'P6', 67.42], ['P12', 'P7', 60.01], ['P0', 'P6', 48.12], ['P5', 'P4', 35.8], ['P10', 'P5', 12.62], ['P2', 'P0', 28.55], ['P11', 'P1', 16.15], ['P6', 'P4', 10.49], ['P13', 'P4', 21.64], ['P9', 'P13', 38.32], ['P4', 'P8', 19.9], ['P7', 'P2', 91.32], ['P8', 'P6', 77.25], ['P2', 'P11', 72.95], ['P7', 'P10', 29.73], ['P13', 'P4', 6.42], ['P7', 'P10', 42.13], ['P12', 'P4', 53.18], ['P11', 'P9', 2.27], ['P6', 'P11', 92.43], ['P1', 'P4', 20.77], ['P11', 'P12', 73.13], ['P5', 'P7', 77.82], ['P5', 'P11', 63.83], ['P13', 'P10', 73.35], ['P3', 'P10', 63.91], ['P11', 'P13', 90.25], ['P13', 'P8', 39.55], ['P5', 'P3', 59.41], ['P0', 'P12', 5.77], ['P9', 'P13', 2.21], ['P9', 'P6', 48.88], ['P12', 'P5', 31.7], ['P9', 'P0', 39.94], ['P5', 'P12', 22.19], ['P2', 'P6', 83.47], ['P1', 'P13', 37.59], ['P0', 'P5', 32.21], ['P11', 'P8', 31.23], ['P3', 'P13', 18.99], ['P13', 'P0', 3.99], ['P5', 'P9', 93.63], ['P4', 'P6', 36.84], ['P0', 'P11', 87.0], ['P8', 'P1', 10.07], ['P13', 'P7', 6.87], ['P14', 'P13', 81.91], ['P5', 'P2', 71.36], ['P13', 'P10', 26.41], ['P12', 'P14', 46.7], ['P8', 'P6', 87.2], ['P5', 'P7', 76.77], ['P10', 'P13', 69.5], ['P6', 'P1', 41.12], ['P10', 'P0', 40.94], ['P4', 'P3', 50.6], ['P6', 'P14', 34.04], ['P0', 'P12', 94.45], ['P8', 'P11', 80.79], ['P4', 'P8', 56.86]]\n"
     ]
    }
   ],
   "source": [
    "import random\n",
    "from splitwise import OptimalSplit\n",
    "\n",
    "def generate_transactions(num_people, num_transactions_per_person=10, max_amount=100):\n",
    "    \"\"\"\n",
    "    Generate a list of transactions of the form [lender, borrower, amount].\n",
    "\n",
    "    Args:\n",
    "      - num_people: how many unique people (named \"P0\", \"P1\", …).\n",
    "      - num_transactions_per_person: average number of transactions per person.\n",
    "      - max_amount: upper bound for a single transaction’s amount.\n",
    "    \"\"\"\n",
    "    people = [f\"P{i}\" for i in range(num_people)]\n",
    "    transactions = []\n",
    "    for _ in range(num_people * num_transactions_per_person):\n",
    "        lender, borrower = random.sample(people, 2)\n",
    "        amount = round(random.uniform(1, max_amount), 2)\n",
    "        transactions.append([lender, borrower, amount])\n",
    "    return transactions\n",
    "\n",
    "transactions_1 = generate_transactions(5, 5, 100)\n",
    "transactions_2 = generate_transactions(15, 5, 100)\n",
    "transactions_3 = generate_transactions(50, 5, 100)\n",
    "\n",
    "print(transactions_2)\n"
   ]
  },
  {
   "cell_type": "code",
   "execution_count": 14,
   "id": "dc04b20f",
   "metadata": {},
   "outputs": [
    {
     "name": "stdout",
     "output_type": "stream",
     "text": [
      "defaultdict(<class 'int'>, {'P3': 116.92000000000004, 'P0': 260.79, 'P4': -339.88, 'P2': -127.85, 'P1': 90.02})\n",
      "{'P3': 116.92000000000004, 'P0': 260.79, 'P4': -339.88, 'P2': -127.85, 'P1': 90.02}\n",
      " 5 people → 0.0001s\n"
     ]
    }
   ],
   "source": [
    "solver = OptimalSplit()\n",
    "\n",
    "start = time.perf_counter()\n",
    "solver.minTransfers(transactions_1)\n",
    "elapsed = time.perf_counter() - start\n",
    "print(f\"{n:2d} people → {elapsed:.4f}s\")\n",
    "assert elapsed < 1.0, f\"Took too long for {n} people\""
   ]
  },
  {
   "cell_type": "code",
   "execution_count": 15,
   "id": "4944562a",
   "metadata": {},
   "outputs": [
    {
     "name": "stdout",
     "output_type": "stream",
     "text": [
      "defaultdict(<class 'int'>, {'P6': -146.39, 'P3': 39.42999999999999, 'P9': 165.79000000000002, 'P13': -85.83000000000003, 'P14': -237.0, 'P12': -37.51, 'P10': 262.64, 'P1': 14.099999999999982, 'P11': 258.95000000000005, 'P5': 192.47999999999996, 'P0': -175.57000000000005, 'P8': -516.26, 'P2': -24.949999999999996, 'P4': 121.61000000000001, 'P7': 168.51000000000002})\n",
      "{'P6': -146.39, 'P3': 39.42999999999999, 'P9': 165.79000000000002, 'P13': -85.83000000000003, 'P14': -237.0, 'P12': -37.51, 'P10': 262.64, 'P1': 14.099999999999982, 'P11': 258.95000000000005, 'P5': 192.47999999999996, 'P0': -175.57000000000005, 'P8': -516.26, 'P2': -24.949999999999996, 'P4': 121.61000000000001, 'P7': 168.51000000000002}\n"
     ]
    },
    {
     "ename": "IndexError",
     "evalue": "index out of range",
     "output_type": "error",
     "traceback": [
      "\u001b[31m---------------------------------------------------------------------------\u001b[39m",
      "\u001b[31mIndexError\u001b[39m                                Traceback (most recent call last)",
      "\u001b[36mCell\u001b[39m\u001b[36m \u001b[39m\u001b[32mIn[15]\u001b[39m\u001b[32m, line 2\u001b[39m\n\u001b[32m      1\u001b[39m start = time.perf_counter()\n\u001b[32m----> \u001b[39m\u001b[32m2\u001b[39m \u001b[43msolver\u001b[49m\u001b[43m.\u001b[49m\u001b[43mminTransfers\u001b[49m\u001b[43m(\u001b[49m\u001b[43mtransactions_2\u001b[49m\u001b[43m)\u001b[49m\n\u001b[32m      3\u001b[39m elapsed = time.perf_counter() - start\n\u001b[32m      4\u001b[39m \u001b[38;5;28mprint\u001b[39m(\u001b[33mf\u001b[39m\u001b[33m\"\u001b[39m\u001b[38;5;132;01m{\u001b[39;00mn\u001b[38;5;132;01m:\u001b[39;00m\u001b[33m2d\u001b[39m\u001b[38;5;132;01m}\u001b[39;00m\u001b[33m people → \u001b[39m\u001b[38;5;132;01m{\u001b[39;00melapsed\u001b[38;5;132;01m:\u001b[39;00m\u001b[33m.4f\u001b[39m\u001b[38;5;132;01m}\u001b[39;00m\u001b[33ms\u001b[39m\u001b[33m\"\u001b[39m)\n",
      "\u001b[36mFile \u001b[39m\u001b[32m~/Library/Mobile Documents/com~apple~CloudDocs/Repositories/DSAstronauts/splitwise.py:61\u001b[39m, in \u001b[36mOptimalSplit.minTransfers\u001b[39m\u001b[34m(self, transactions)\u001b[39m\n\u001b[32m     59\u001b[39m \u001b[38;5;28;01mwhile\u001b[39;00m debtors: \n\u001b[32m     60\u001b[39m     debtAmount, debtor = heapq.heappop(debtors) \u001b[38;5;66;03m#take debtor with biggest debt from heap and remove\u001b[39;00m\n\u001b[32m---> \u001b[39m\u001b[32m61\u001b[39m     creditAmount, creditor = heapq.heappop(creditors) \u001b[38;5;66;03m#take debtor with biggest debt from heap and remove\u001b[39;00m\n\u001b[32m     63\u001b[39m     debtAmount = -debtAmount\n\u001b[32m     64\u001b[39m     creditAmount = -creditAmount\n",
      "\u001b[31mIndexError\u001b[39m: index out of range"
     ]
    }
   ],
   "source": [
    "start = time.perf_counter()\n",
    "solver.minTransfers(transactions_2)\n",
    "elapsed = time.perf_counter() - start\n",
    "print(f\"{n:2d} people → {elapsed:.4f}s\")\n",
    "assert elapsed < 1.0, f\"Took too long for {n} people\""
   ]
  },
  {
   "cell_type": "code",
   "execution_count": 19,
   "id": "b1d4a364",
   "metadata": {},
   "outputs": [
    {
     "name": "stdout",
     "output_type": "stream",
     "text": [
      "defaultdict(<class 'int'>, {'P0': 211.97000000000003, 'P8': 3.190000000000012, 'P5': 534.08, 'P3': 46.10999999999999, 'P4': 168.21999999999997, 'P14': -83.84, 'P9': 16.689999999999998, 'P2': -15.669999999999987, 'P11': 11.109999999999943, 'P6': -350.76, 'P7': 9.58999999999999, 'P10': -344.91999999999996, 'P1': -41.27999999999999, 'P12': -3.9499999999999886, 'P13': -160.54000000000002})\n",
      "{'P0': 211.97000000000003, 'P8': 3.190000000000012, 'P5': 534.08, 'P3': 46.10999999999999, 'P4': 168.21999999999997, 'P14': -83.84, 'P9': 16.689999999999998, 'P2': -15.669999999999987, 'P11': 11.109999999999943, 'P6': -350.76, 'P7': 9.58999999999999, 'P10': -344.91999999999996, 'P1': -41.27999999999999, 'P12': -3.9499999999999886, 'P13': -160.54000000000002}\n"
     ]
    },
    {
     "data": {
      "text/plain": [
       "[['P5', 'P6', 350.76],\n",
       " ['P0', 'P10', 211.97000000000003],\n",
       " ['P5', 'P13', 160.54000000000002],\n",
       " ['P4', 'P10', 132.94999999999993],\n",
       " ['P3', 'P14', 46.10999999999999],\n",
       " ['P4', 'P1', 35.27000000000004],\n",
       " ['P5', 'P14', 22.78000000000003],\n",
       " ['P9', 'P2', 15.669999999999987],\n",
       " ['P11', 'P14', 11.109999999999943],\n",
       " ['P7', 'P1', 6.009999999999948],\n",
       " ['P7', 'P12', 3.580000000000041],\n",
       " ['P8', 'P14', 3.190000000000012],\n",
       " ['P9', 'P14', 0.650000000000027],\n",
       " ['P9', 'P12', 0.3699999999999477]]"
      ]
     },
     "execution_count": 19,
     "metadata": {},
     "output_type": "execute_result"
    }
   ],
   "source": [
    "transactions = [['P0', 'P8', 57.84], ['P5', 'P3', 18.98], ['P4', 'P14', 82.19], ['P9', 'P2', 37.96], ['P4', 'P11', 90.33], ['P11', 'P9', 74.92], ['P5', 'P6', 79.66], ['P11', 'P14', 2.82], ['P7', 'P8', 35.58], ['P11', 'P10', 61.73], ['P7', 'P1', 32.3], ['P3', 'P10', 92.2], ['P9', 'P4', 20.2], ['P5', 'P8', 11.16], ['P11', 'P10', 78.52], ['P11', 'P6', 67.42], ['P12', 'P7', 60.01], ['P0', 'P6', 48.12], ['P5', 'P4', 35.8], ['P10', 'P5', 12.62], ['P2', 'P0', 28.55], ['P11', 'P1', 16.15], ['P6', 'P4', 10.49], ['P13', 'P4', 21.64], ['P9', 'P13', 38.32], ['P4', 'P8', 19.9], ['P7', 'P2', 91.32], ['P8', 'P6', 77.25], ['P2', 'P11', 72.95], ['P7', 'P10', 29.73], ['P13', 'P4', 6.42], ['P7', 'P10', 42.13], ['P12', 'P4', 53.18], ['P11', 'P9', 2.27], ['P6', 'P11', 92.43], ['P1', 'P4', 20.77], ['P11', 'P12', 73.13], ['P5', 'P7', 77.82], ['P5', 'P11', 63.83], ['P13', 'P10', 73.35], ['P3', 'P10', 63.91], ['P11', 'P13', 90.25], ['P13', 'P8', 39.55], ['P5', 'P3', 59.41], ['P0', 'P12', 5.77], ['P9', 'P13', 2.21], ['P9', 'P6', 48.88], ['P12', 'P5', 31.7], ['P9', 'P0', 39.94], ['P5', 'P12', 22.19], ['P2', 'P6', 83.47], ['P1', 'P13', 37.59], ['P0', 'P5', 32.21], ['P11', 'P8', 31.23], ['P3', 'P13', 18.99], ['P13', 'P0', 3.99], ['P5', 'P9', 93.63], ['P4', 'P6', 36.84], ['P0', 'P11', 87.0], ['P8', 'P1', 10.07], ['P13', 'P7', 6.87], ['P14', 'P13', 81.91], ['P5', 'P2', 71.36], ['P13', 'P10', 26.41], ['P12', 'P14', 46.7], ['P8', 'P6', 87.2], ['P5', 'P7', 76.77], ['P10', 'P13', 69.5], ['P6', 'P1', 41.12], ['P10', 'P0', 40.94], ['P4', 'P3', 50.6], ['P6', 'P14', 34.04], ['P0', 'P12', 94.45], ['P8', 'P11', 80.79], ['P4', 'P8', 56.86]]\n",
    "\n",
    "solver.minTransfers(transactions)"
   ]
  }
 ],
 "metadata": {
  "kernelspec": {
   "display_name": "dsa_proj",
   "language": "python",
   "name": "python3"
  },
  "language_info": {
   "codemirror_mode": {
    "name": "ipython",
    "version": 3
   },
   "file_extension": ".py",
   "mimetype": "text/x-python",
   "name": "python",
   "nbconvert_exporter": "python",
   "pygments_lexer": "ipython3",
   "version": "3.11.11"
  }
 },
 "nbformat": 4,
 "nbformat_minor": 5
}
