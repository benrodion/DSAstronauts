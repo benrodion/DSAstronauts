{
 "cells": [
  {
   "cell_type": "markdown",
   "id": "7abcae21",
   "metadata": {},
   "source": [
    "# Testing the Algorithm \n",
    "To test if the algorithm works properly and in alignment with the instructions from the Project Guidelines, **5 tests**will be run. These include:  \n",
    "- **2 exception tests**: what does the algorithm do, if unexpected inputs are passed to it?  \n",
    "- **2 functional tests**: does the algorithm output correct solutions if adequate inputs are provided? This especially pertains to the amount of transactions (are they really minimized) and the path that it outputs (are the correct amounts transferred to and from the correct people). Functional tests will be verified through comparison with the actual Splitwise-app. "
   ]
  },
  {
   "cell_type": "code",
   "execution_count": 7,
   "id": "f9b4a928",
   "metadata": {},
   "outputs": [],
   "source": [
    "from splitwise import OptimalSplit\n",
    "import pytest\n"
   ]
  },
  {
   "cell_type": "markdown",
   "id": "ecaba182",
   "metadata": {},
   "source": [
    "## Exception Tests\n"
   ]
  },
  {
   "cell_type": "markdown",
   "id": "62187685",
   "metadata": {},
   "source": [
    "## Functional Tests"
   ]
  },
  {
   "cell_type": "markdown",
   "id": "7f79f0de",
   "metadata": {},
   "source": [
    "## Performance Test\n",
    "Does the algorithm solve transactions with more than 15 people in less than 1 second? "
   ]
  },
  {
   "cell_type": "code",
   "execution_count": 4,
   "id": "39865b1f",
   "metadata": {},
   "outputs": [
    {
     "name": "stdout",
     "output_type": "stream",
     "text": [
      "defaultdict(<class 'int'>, {'Person11': -181, 'Person2': 63, 'Person12': 166, 'Person5': -32, 'Person4': 173, 'Person3': -95, 'Person15': -9, 'Person9': -87, 'Person10': -31, 'Person7': -78, 'Person1': 54, 'Person8': 36, 'Person13': 22, 'Person14': -1})\n",
      "{'Person11': -181, 'Person2': 63, 'Person12': 166, 'Person5': -32, 'Person4': 173, 'Person3': -95, 'Person15': -9, 'Person9': -87, 'Person10': -31, 'Person7': -78, 'Person1': 54, 'Person8': 36, 'Person13': 22, 'Person14': -1}\n"
     ]
    }
   ],
   "source": [
    "transactions = [\n",
    "    ['Person11', 'Person2', 4],\n",
    "    ['Person12', 'Person5', 32],\n",
    "    ['Person4',  'Person3', 95],\n",
    "    ['Person2',  'Person11',95],\n",
    "    ['Person15', 'Person9', 12],\n",
    "    ['Person10', 'Person7', 5],\n",
    "    ['Person1',  'Person2', 28],\n",
    "    ['Person4',  'Person9', 78],\n",
    "    ['Person1',  'Person9', 26],\n",
    "    ['Person12', 'Person11',90],\n",
    "    ['Person9',  'Person7', 29],\n",
    "    ['Person8',  'Person10',36],\n",
    "    ['Person13', 'Person14',1],\n",
    "    ['Person13', 'Person15',21],\n",
    "    ['Person12', 'Person7', 44],\n",
    "]\n",
    "\n",
    "\n",
    "splitter = OptimalSplit()\n",
    "txns = splitter.minTransfers(transactions)\n",
    "\n",
    "print(f\"{len(txns)} payments need to be made.\")\n",
    "\n",
    "for debtor, creditor, amount in txns:\n",
    "    print(f\"{debtor} pays {creditor} {amount}\")"
   ]
  },
  {
   "cell_type": "markdown",
   "id": "35a8ed8d",
   "metadata": {},
   "source": [
    "**Answer**: No. The algoritm needs to be optimized accordingly. This is a to-do. "
   ]
  },
  {
   "cell_type": "markdown",
   "id": "f39df4c2",
   "metadata": {},
   "source": [
    "#### Quick and Dirty Fix\n",
    "Needs to be implemented properly at later stage. "
   ]
  },
  {
   "cell_type": "code",
   "execution_count": 5,
   "id": "4276fe21",
   "metadata": {},
   "outputs": [
    {
     "name": "stdout",
     "output_type": "stream",
     "text": [
      "11 payments need to be made.\n",
      "Person11 pays Person12 166\n",
      "Person11 pays Person1 15\n",
      "Person5 pays Person2 32\n",
      "Person10 pays Person2 31\n",
      "Person3 pays Person4 95\n",
      "Person7 pays Person4 78\n",
      "Person15 pays Person1 9\n",
      "Person9 pays Person1 30\n",
      "Person9 pays Person8 36\n",
      "Person9 pays Person13 21\n",
      "Person14 pays Person13 1\n"
     ]
    }
   ],
   "source": [
    "from collections import defaultdict\n",
    "from math import inf, isclose\n",
    "from functools import lru_cache\n",
    "import math\n",
    "\n",
    "class test:\n",
    "    \"\"\"\n",
    "    Core algorithm for debt splitting with minimal amount of payments,\n",
    "    with memoization and lower‑bound pruning for efficiency.\n",
    "    \"\"\"\n",
    "    def test_transfers(self, transactions):\n",
    "        \"\"\"\n",
    "        Performs debt split with minimal number of payments.\n",
    "\n",
    "        Args:\n",
    "        - transactions: list of [lender, borrower, amount]\n",
    "\n",
    "        Returns:\n",
    "        - A list of [creditor, debtor, amount] transactions.\n",
    "        \"\"\"\n",
    "        # 1. Compute net scores\n",
    "        score = defaultdict(int)\n",
    "        for lender, borrower, amount in transactions:\n",
    "            score[lender]   += amount\n",
    "            score[borrower] -= amount\n",
    "\n",
    "        # 2. Filter out zero balances\n",
    "        debt = {p: bal for p, bal in score.items() if not isclose(bal, 0, abs_tol=1e-9)}\n",
    "        people   = list(debt.keys())\n",
    "        balances = tuple(debt[p] for p in people)\n",
    "\n",
    "        @lru_cache(maxsize=None)\n",
    "        def search(state):\n",
    "            \"\"\"\n",
    "            state: tuple of balances aligned with `people`\n",
    "            returns: (min_payments, path_tuple)\n",
    "            \"\"\"\n",
    "            b = list(state)\n",
    "            n = len(b)\n",
    "\n",
    "            # Skip settled\n",
    "            idx = 0\n",
    "            while idx < n and isclose(b[idx], 0, abs_tol=1e-9):\n",
    "                idx += 1\n",
    "            # All settled\n",
    "            if idx == n:\n",
    "                return 0, ()\n",
    "\n",
    "            # Lower‑bound pruning: at least ceil(unsettled/2) payments needed\n",
    "            unsettled = [x for x in b if not isclose(x, 0, abs_tol=1e-9)]\n",
    "            lb = math.ceil(len(unsettled) / 2)\n",
    "\n",
    "            best_count = inf\n",
    "            best_path  = ()\n",
    "\n",
    "            # Try pairing idx with any later opposite‑sign balance\n",
    "            for j in range(idx + 1, n):\n",
    "                if b[idx] * b[j] < 0:\n",
    "                    amt = min(abs(b[idx]), abs(b[j]))\n",
    "\n",
    "                    # Apply transaction\n",
    "                    saved_i = b[idx]\n",
    "                    saved_j = b[j]\n",
    "                    if b[idx] < 0:\n",
    "                        b[idx] += amt\n",
    "                        b[j]   -= amt\n",
    "                        step = (people[idx], people[j], round(amt, 2))\n",
    "                    else:\n",
    "                        b[idx] -= amt\n",
    "                        b[j]   += amt\n",
    "                        step = (people[j], people[idx], round(amt, 2))\n",
    "\n",
    "                    # Recurse\n",
    "                    next_state = tuple(b)\n",
    "                    cnt, subpath = search(next_state)\n",
    "                    total = cnt + 1\n",
    "                    if total < best_count:\n",
    "                        best_count = total\n",
    "                        best_path  = (step,) + subpath\n",
    "\n",
    "                    # Backtrack\n",
    "                    b[idx] = saved_i\n",
    "                    b[j]   = saved_j\n",
    "\n",
    "                    # Prune if we've hit the lower bound\n",
    "                    if best_count == lb:\n",
    "                        break\n",
    "\n",
    "            return best_count, best_path\n",
    "\n",
    "        # Get result and return as list of lists\n",
    "        _, path = search(balances)\n",
    "        return [list(txn) for txn in path]\n",
    "\n",
    "\n",
    "\n",
    "\n",
    "transactions = [\n",
    "    ['Person11', 'Person2', 4],\n",
    "    ['Person12', 'Person5', 32],\n",
    "    ['Person4',  'Person3', 95],\n",
    "    ['Person2',  'Person11',95],\n",
    "    ['Person15', 'Person9', 12],\n",
    "    ['Person10', 'Person7', 5],\n",
    "    ['Person1',  'Person2', 28],\n",
    "    ['Person4',  'Person9', 78],\n",
    "    ['Person1',  'Person9', 26],\n",
    "    ['Person12', 'Person11',90],\n",
    "    ['Person9',  'Person7', 29],\n",
    "    ['Person8',  'Person10',36],\n",
    "    ['Person13', 'Person14',1],\n",
    "    ['Person13', 'Person15',21],\n",
    "    ['Person12', 'Person7', 44],\n",
    "]\n",
    "\n",
    "splitter = test()\n",
    "trans = splitter.test_transfers(transactions)\n",
    "\n",
    "print(f\"{len(trans)} payments need to be made.\")\n",
    "\n",
    "for debtor, creditor, amount in trans:\n",
    "    print(f\"{debtor} pays {creditor} {amount}\")\n"
   ]
  }
 ],
 "metadata": {
  "kernelspec": {
   "display_name": "dsa_proj",
   "language": "python",
   "name": "python3"
  },
  "language_info": {
   "codemirror_mode": {
    "name": "ipython",
    "version": 3
   },
   "file_extension": ".py",
   "mimetype": "text/x-python",
   "name": "python",
   "nbconvert_exporter": "python",
   "pygments_lexer": "ipython3",
   "version": "3.11.11"
  }
 },
 "nbformat": 4,
 "nbformat_minor": 5
}
