{
 "cells": [
  {
   "cell_type": "markdown",
   "id": "7abcae21",
   "metadata": {},
   "source": [
    "# Testing the Algorithm \n",
    "To test if the algorithm works properly and in alignment with the instructions from the Project Guidelines, **3 tests** will be run. These include:  \n",
    "- **2 functional tests**: does the algorithm output correct solutions if adequate inputs are provided? This especially pertains to the amount of transactions (are they really minimized) and the path that it outputs (are the correct amounts transferred to and from the correct people). Functional tests will be verified through comparison with the actual Splitwise-app. \n",
    "- **1 performance test**: does the algorithm scale well? I.e. can it solve transactions with 10, 50 or 1000 different involved people in under a second?"
   ]
  },
  {
   "cell_type": "markdown",
   "id": "ecaba182",
   "metadata": {},
   "source": [
    "## Exception Tests\n"
   ]
  },
  {
   "cell_type": "markdown",
   "id": "62187685",
   "metadata": {},
   "source": [
    "## Functional Tests"
   ]
  },
  {
   "cell_type": "markdown",
   "id": "7f79f0de",
   "metadata": {},
   "source": [
    "## Performance Test\n",
    "Does the algorithm solve transactions with more than up to 100 different people in less than 1 second? "
   ]
  },
  {
   "cell_type": "code",
   "execution_count": 7,
   "id": "dc04b20f",
   "metadata": {},
   "outputs": [
    {
     "name": "stdout",
     "output_type": "stream",
     "text": [
      "10 people → 0.0001s\n",
      "50 people → 0.0002s\n",
      "1000 people → 0.0032s\n"
     ]
    }
   ],
   "source": [
    "from helpers import generate_transactions\n",
    "import time\n",
    "from splitwise import OptimalSplit\n",
    "\n",
    "solver = OptimalSplit()\n",
    "for n in (10, 50, 1000):\n",
    "    txns = generate_transactions(n) # generate transactions involving n different people\n",
    "    start = time.perf_counter()\n",
    "    solution = solver.minTransfers(txns)\n",
    "    elapsed = time.perf_counter() - start\n",
    "    print(f\"{n:2d} people → {elapsed:.4f}s\")\n",
    "    assert elapsed < 1.0, f\"Took too long for {n} people\""
   ]
  }
 ],
 "metadata": {
  "kernelspec": {
   "display_name": "dsa_proj",
   "language": "python",
   "name": "python3"
  },
  "language_info": {
   "codemirror_mode": {
    "name": "ipython",
    "version": 3
   },
   "file_extension": ".py",
   "mimetype": "text/x-python",
   "name": "python",
   "nbconvert_exporter": "python",
   "pygments_lexer": "ipython3",
   "version": "3.11.11"
  }
 },
 "nbformat": 4,
 "nbformat_minor": 5
}
