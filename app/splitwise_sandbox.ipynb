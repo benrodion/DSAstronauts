{
 "cells": [
  {
   "cell_type": "markdown",
   "metadata": {},
   "source": [
    "# Quick Demonstration of the Algorithm "
   ]
  },
  {
   "cell_type": "code",
   "execution_count": null,
   "metadata": {},
   "outputs": [],
   "source": [
    "from app.splitwise import OptimalSplit\n",
    "from collections import defaultdict\n",
    "from math import inf, isclose"
   ]
  },
  {
   "cell_type": "code",
   "execution_count": 2,
   "metadata": {},
   "outputs": [
    {
     "name": "stdout",
     "output_type": "stream",
     "text": [
      "defaultdict(<class 'int'>, {'Angela': 5.0, 'Olaf': -12.0, 'Friedrich': 10.0, 'Barbie': -3.0, 'Ken': 0.0})\n",
      "{'Angela': 5.0, 'Olaf': -12.0, 'Friedrich': 10.0, 'Barbie': -3.0}\n",
      "3 payments need to be made.\n",
      "Olaf pays Friedrich 10.0\n",
      "Barbie pays Angela 3.0\n",
      "Olaf pays Angela 2.0\n"
     ]
    }
   ],
   "source": [
    "transactions = [[\"Angela\", \"Olaf\", 10],\n",
    "    [\"Olaf\", \"Friedrich\", 5],\n",
    "    [\"Friedrich\", \"Angela\", 5],\n",
    "    [\"Friedrich\", \"Barbie\", 10],\n",
    "    [\"Barbie\", \"Olaf\", 7],\n",
    "    [\"Ken\", \"Barbie\", 5],\n",
    "    [\"Barbie\", \"Ken\", 5]]\n",
    "\n",
    "splitter = OptimalSplit()\n",
    "txns = splitter.minTransfers(transactions)\n",
    "\n",
    "print(f\"{len(txns)} payments need to be made.\")\n",
    "\n",
    "for creditor, debtor, amount in txns:\n",
    "    print(f\"{debtor} pays {creditor} {amount}\")\n",
    "\n",
    "\n",
    "\n",
    "\n"
   ]
  },
  {
   "cell_type": "code",
   "execution_count": 5,
   "metadata": {},
   "outputs": [
    {
     "name": "stdout",
     "output_type": "stream",
     "text": [
      "defaultdict(<class 'int'>, {'Jasmin': 16.66, 'Hanna': -10.0, 'Carl': -6.66})\n",
      "{'Jasmin': 16.66, 'Hanna': -10.0, 'Carl': -6.66}\n",
      "2 payments need to be made.\n",
      "Hanna pays Jasmin 10.0\n",
      "Carl pays Jasmin 6.66\n"
     ]
    }
   ],
   "source": [
    "transactions = [[\"Jasmin\", \"Hanna\", 10],\n",
    "    [\"Jasmin\", \"Carl\", 6.66]]\n",
    "\n",
    "splitter = OptimalSplit()\n",
    "txns = splitter.minTransfers(transactions)\n",
    "\n",
    "print(f\"{len(txns)} payments need to be made.\")\n",
    "\n",
    "for creditor, debtor, amount in txns:\n",
    "    print(f\"{debtor} pays {creditor} {amount}\")"
   ]
  },
  {
   "cell_type": "code",
   "execution_count": 4,
   "metadata": {},
   "outputs": [
    {
     "ename": "ModuleNotFoundError",
     "evalue": "No module named 'splitwise_updated'",
     "output_type": "error",
     "traceback": [
      "\u001b[31m---------------------------------------------------------------------------\u001b[39m",
      "\u001b[31mModuleNotFoundError\u001b[39m                       Traceback (most recent call last)",
      "\u001b[36mCell\u001b[39m\u001b[36m \u001b[39m\u001b[32mIn[4]\u001b[39m\u001b[32m, line 1\u001b[39m\n\u001b[32m----> \u001b[39m\u001b[32m1\u001b[39m \u001b[38;5;28;01mfrom\u001b[39;00m\u001b[38;5;250m \u001b[39m\u001b[34;01msplitwise_updated\u001b[39;00m\u001b[38;5;250m \u001b[39m\u001b[38;5;28;01mimport\u001b[39;00m Experiment\n\u001b[32m      3\u001b[39m transactions = [[\u001b[33m\"\u001b[39m\u001b[33mAngela\u001b[39m\u001b[33m\"\u001b[39m, \u001b[33m\"\u001b[39m\u001b[33mOlaf\u001b[39m\u001b[33m\"\u001b[39m, \u001b[32m10\u001b[39m],\n\u001b[32m      4\u001b[39m     [\u001b[33m\"\u001b[39m\u001b[33mOlaf\u001b[39m\u001b[33m\"\u001b[39m, \u001b[33m\"\u001b[39m\u001b[33mFriedrich\u001b[39m\u001b[33m\"\u001b[39m, \u001b[32m5\u001b[39m],\n\u001b[32m      5\u001b[39m     [\u001b[33m\"\u001b[39m\u001b[33mFriedrich\u001b[39m\u001b[33m\"\u001b[39m, \u001b[33m\"\u001b[39m\u001b[33mAngela\u001b[39m\u001b[33m\"\u001b[39m, \u001b[32m5\u001b[39m],\n\u001b[32m   (...)\u001b[39m\u001b[32m      8\u001b[39m     [\u001b[33m\"\u001b[39m\u001b[33mKen\u001b[39m\u001b[33m\"\u001b[39m, \u001b[33m\"\u001b[39m\u001b[33mBarbie\u001b[39m\u001b[33m\"\u001b[39m, \u001b[32m5\u001b[39m],\n\u001b[32m      9\u001b[39m     [\u001b[33m\"\u001b[39m\u001b[33mBarbie\u001b[39m\u001b[33m\"\u001b[39m, \u001b[33m\"\u001b[39m\u001b[33mKen\u001b[39m\u001b[33m\"\u001b[39m, \u001b[32m5\u001b[39m]]\n\u001b[32m     13\u001b[39m splitter = Experiment()\n",
      "\u001b[31mModuleNotFoundError\u001b[39m: No module named 'splitwise_updated'"
     ]
    }
   ],
   "source": [
    "from splitwise_updated import Experiment\n",
    "\n",
    "transactions = [[\"Angela\", \"Olaf\", 10],\n",
    "    [\"Olaf\", \"Friedrich\", 5],\n",
    "    [\"Friedrich\", \"Angela\", 5],\n",
    "    [\"Friedrich\", \"Barbie\", 10],\n",
    "    [\"Barbie\", \"Olaf\", 7],\n",
    "    [\"Ken\", \"Barbie\", 5],\n",
    "    [\"Barbie\", \"Ken\", 5]]\n",
    "\n",
    "\n",
    "\n",
    "splitter = Experiment()\n",
    "result = splitter.ExperimentalSplit(transactions)\n",
    "\n",
    "result\n"
   ]
  }
 ],
 "metadata": {
  "kernelspec": {
   "display_name": "dsa_proj",
   "language": "python",
   "name": "python3"
  },
  "language_info": {
   "codemirror_mode": {
    "name": "ipython",
    "version": 3
   },
   "file_extension": ".py",
   "mimetype": "text/x-python",
   "name": "python",
   "nbconvert_exporter": "python",
   "pygments_lexer": "ipython3",
   "version": "3.11.11"
  }
 },
 "nbformat": 4,
 "nbformat_minor": 2
}
